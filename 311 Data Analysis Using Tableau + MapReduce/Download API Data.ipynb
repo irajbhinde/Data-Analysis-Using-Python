{
 "cells": [
  {
   "cell_type": "code",
   "execution_count": 1,
   "metadata": {
    "collapsed": false
   },
   "outputs": [],
   "source": [
    "import os\n",
    "import csv\n",
    "import requests\n",
    "import io\n",
    "import pandas as pd\n",
    "import warnings\n",
    "warnings.filterwarnings(\"ignore\")\n",
    "\n",
    "try:\n",
    "    os.chdir('C:/Users/Dhaval/Python_Data/bhinde_dhaval_spring2017/') # making changes to cwd for local reference\n",
    "except:\n",
    "    pass\n",
    "\n",
    "data_download_key = os.environ.get('data_download_key')\n",
    "\n",
    "# Downloading 2016 data\n",
    "\n",
    "CSV_URL = \"https://data.cityofnewyork.us/resource/fhrw-4uyv.csv?$$app_token=\"+data_download_key+\"&$limit=5000000&$where=created_date between '2016-01-01T12:00:00' and '2016-12-31T12:00:00'\"\n",
    "\n",
    "with requests.Session() as s:\n",
    "    download = s.get(CSV_URL)\n",
    "    data = download.content\n",
    "    df = pd.read_csv(io.BytesIO(data))\n",
    "\n",
    "df2 = df[['agency_name', 'borough', 'city', 'closed_date', 'complaint_type', 'created_date', 'descriptor', 'due_date',\\\n",
    "          'incident_zip', 'street_name', 'resolution_description']]\n",
    "df2.to_csv('finals\\\\data\\\\311_2016.csv')\n"
   ]
  },
  {
   "cell_type": "code",
   "execution_count": 2,
   "metadata": {
    "collapsed": false
   },
   "outputs": [
    {
     "name": "stdout",
     "output_type": "stream",
     "text": [
      "Step Complete\n"
     ]
    }
   ],
   "source": [
    "# Downloading 2015 data\n",
    "\n",
    "CSV_URL = \"https://data.cityofnewyork.us/resource/fhrw-4uyv.csv?$$app_token=\"+data_download_key+\"&$limit=5000000&$where=created_date between '2015-01-01T12:00:00' and '2015-12-31T12:00:00'\"\n",
    "\n",
    "with requests.Session() as s:\n",
    "    download = s.get(CSV_URL)\n",
    "    data = download.content\n",
    "    df = pd.read_csv(io.BytesIO(data))\n",
    "\n",
    "df2 = df[['agency_name', 'borough', 'city', 'closed_date', 'complaint_type', 'created_date', 'descriptor', 'due_date',\\\n",
    "          'incident_zip', 'street_name', 'resolution_description']]\n",
    "df2.to_csv('finals\\\\data\\\\311_2015.csv')\n",
    "print('Step Complete')"
   ]
  },
  {
   "cell_type": "code",
   "execution_count": 3,
   "metadata": {
    "collapsed": false
   },
   "outputs": [
    {
     "name": "stdout",
     "output_type": "stream",
     "text": [
      "Step Complete\n"
     ]
    }
   ],
   "source": [
    "# Downloading 2017 data\n",
    "\n",
    "CSV_URL = \"https://data.cityofnewyork.us/resource/fhrw-4uyv.csv?$$app_token=\"+data_download_key+\"&$limit=5000000&$where=created_date between '2017-01-01T12:00:00' and '2017-12-31T12:00:00'\"\n",
    "\n",
    "with requests.Session() as s:\n",
    "    download = s.get(CSV_URL)\n",
    "    data = download.content\n",
    "    df = pd.read_csv(io.BytesIO(data))\n",
    "\n",
    "df2 = df[['agency_name', 'borough', 'city', 'closed_date', 'complaint_type', 'created_date', 'descriptor', 'due_date',\\\n",
    "          'incident_zip', 'street_name', 'resolution_description']]\n",
    "df2.to_csv('finals\\\\data\\\\311_2017.csv')\n",
    "print('Step Complete')"
   ]
  }
 ],
 "metadata": {
  "anaconda-cloud": {},
  "kernelspec": {
   "display_name": "Python [conda root]",
   "language": "python",
   "name": "conda-root-py"
  },
  "language_info": {
   "codemirror_mode": {
    "name": "ipython",
    "version": 3
   },
   "file_extension": ".py",
   "mimetype": "text/x-python",
   "name": "python",
   "nbconvert_exporter": "python",
   "pygments_lexer": "ipython3",
   "version": "3.5.2"
  }
 },
 "nbformat": 4,
 "nbformat_minor": 2
}
